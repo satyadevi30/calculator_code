{
  "cells": [
    {
      "cell_type": "markdown",
      "metadata": {
        "id": "view-in-github",
        "colab_type": "text"
      },
      "source": [
        "<a href=\"https://colab.research.google.com/github/satyadevi30/calculator_code/blob/main/calculator.ipynb\" target=\"_parent\"><img src=\"https://colab.research.google.com/assets/colab-badge.svg\" alt=\"Open In Colab\"/></a>"
      ]
    },
    {
      "cell_type": "code",
      "execution_count": 1,
      "id": "a5c2bd29",
      "metadata": {
        "colab": {
          "base_uri": "https://localhost:8080/"
        },
        "id": "a5c2bd29",
        "outputId": "049f4195-27c7-4f81-8455-87f6c777abab"
      },
      "outputs": [
        {
          "name": "stdout",
          "output_type": "stream",
          "text": [
            "Welcome to the calculator!\n",
            "Select operation (+, -, *, /): +\n",
            "Enter first number: 6\n",
            "Enter second number: 9\n",
            "Result: 15.0\n",
            "Continue (y/n)? y\n",
            "Select operation (+, -, *, /): -\n",
            "Enter first number: 8\n",
            "Enter second number: 78\n",
            "Result: -70.0\n",
            "Continue (y/n)? n\n"
          ]
        }
      ],
      "source": [
        "#Calculator\n",
        "def add(a, b):\n",
        "  return a + b\n",
        "\n",
        "def subtract(a, b):\n",
        "  return a - b\n",
        "\n",
        "def multiply(a, b):\n",
        "  return a * b\n",
        "\n",
        "def divide(a, b):\n",
        "  if a == 0:\n",
        "    raise ZeroDivisionError(\"Cannot divide by zero\")\n",
        "  return a / b\n",
        "\n",
        "print(\"Welcome to the calculator!\")\n",
        "\n",
        "while True:\n",
        "  operation = input(\"Select operation (+, -, *, /): \")\n",
        "\n",
        "  try:\n",
        "    a = float(input(\"Enter first number: \"))\n",
        "    b = float(input(\"Enter second number: \"))\n",
        "\n",
        "    if operation == \"+\":\n",
        "      result = add(a, b)\n",
        "    elif operation == \"-\":\n",
        "      result = subtract(a, b)\n",
        "    elif operation == \"*\":\n",
        "      result = multiply(a, b)\n",
        "    elif operation == \"/\":\n",
        "      result = divide(a, b)\n",
        "    else:\n",
        "      print(\"Invalid operation\")\n",
        "      continue\n",
        "\n",
        "    print(\"Result:\", result)\n",
        "\n",
        "  except ValueError:\n",
        "    print(\"Invalid input. Please enter a number.\")\n",
        "  except ZeroDivisionError as e:\n",
        "    print(e)\n",
        "\n",
        "  choice = input(\"Continue (y/n)? \")\n",
        "  if choice != \"y\":\n",
        "    break\n"
      ]
    },
    {
      "cell_type": "code",
      "source": [],
      "metadata": {
        "id": "OWa2WOfdpSQ4"
      },
      "id": "OWa2WOfdpSQ4",
      "execution_count": null,
      "outputs": []
    }
  ],
  "metadata": {
    "kernelspec": {
      "display_name": "Python 3 (ipykernel)",
      "language": "python",
      "name": "python3"
    },
    "language_info": {
      "codemirror_mode": {
        "name": "ipython",
        "version": 3
      },
      "file_extension": ".py",
      "mimetype": "text/x-python",
      "name": "python",
      "nbconvert_exporter": "python",
      "pygments_lexer": "ipython3",
      "version": "3.9.13"
    },
    "colab": {
      "provenance": [],
      "include_colab_link": true
    }
  },
  "nbformat": 4,
  "nbformat_minor": 5
}